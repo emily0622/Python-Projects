{
  "nbformat": 4,
  "nbformat_minor": 0,
  "metadata": {
    "colab": {
      "name": "421Lab1.ipynb",
      "provenance": [],
      "authorship_tag": "ABX9TyOlY6LuuwgnJQHB/6li2vPk",
      "include_colab_link": true
    },
    "kernelspec": {
      "name": "python3",
      "display_name": "Python 3"
    },
    "language_info": {
      "name": "python"
    }
  },
  "cells": [
    {
      "cell_type": "markdown",
      "metadata": {
        "id": "view-in-github",
        "colab_type": "text"
      },
      "source": [
        "<a href=\"https://colab.research.google.com/github/emily0622/Python-Projects/blob/main/421Lab1.ipynb\" target=\"_parent\"><img src=\"https://colab.research.google.com/assets/colab-badge.svg\" alt=\"Open In Colab\"/></a>"
      ]
    },
    {
      "cell_type": "code",
      "metadata": {
        "colab": {
          "base_uri": "https://localhost:8080/",
          "height": 295
        },
        "id": "Sug2huibfqTz",
        "outputId": "ca957a6a-e1c6-4f9f-96d4-e3409ced7f37"
      },
      "source": [
        "import sklearn\n",
        "import sklearn.datasets\n",
        "import numpy as np\n",
        "import numpy.random\n",
        "import matplotlib.pyplot as plt\n",
        "\n",
        "dictionary_dataset = sklearn.datasets.load_breast_cancer()\n",
        "dataset = dictionary_dataset['data']\n",
        "\n",
        "def k_means(dataset, k):\n",
        "  \n",
        "  # Initialization of cluster centroids as k samples from dataset\n",
        "  centroids = []\n",
        "  for _ in range(k):\n",
        "    centroids.append(dataset[np.random.choice(len(dataset))])\n",
        "  \n",
        "  length = len(centroids[0])\n",
        "\n",
        "  # c is an array indicating the index of cluster to which each data sample belongs\n",
        "  c = np.zeros(len(dataset))\n",
        "  acceptable = False\n",
        "  counter = 0\n",
        "\n",
        "\n",
        "  while not acceptable:\n",
        "    counter += 1\n",
        "    # Initialize each value in array to zero before summing values of each element in cluster\n",
        "    update_position = np.zeros(np.shape(centroids))\n",
        "\n",
        "    # To update closest centroid to each data point and update centroid position\n",
        "    for i in range(len(dataset)):\n",
        "      diff = []\n",
        "      for centroid in centroids:\n",
        "        diff.append(np.sum(np.power(np.diff([dataset[i], centroid], axis=0), 2)))\n",
        "      \n",
        "      # To assign index (of centroid) to each element of dataset\n",
        "      c[i] = np.argmin(diff)\n",
        "\n",
        "      # To calculate average position of cluster\n",
        "      update_position[int(c[i])] = np.add(update_position[int(c[i])], dataset[i])\n",
        "      \n",
        "    \n",
        "    for i in range(k):\n",
        "      update_position[i] /= np.count_nonzero(c == i)\n",
        "    if (np.array_equal(centroids, update_position)):\n",
        "      acceptable = True\n",
        "    else:\n",
        "      centroids = update_position\n",
        "    \n",
        "  return (centroids, c)\n",
        "\n",
        "(mu_2, c_2) = k_means(dataset, 2)\n",
        "(mu_3, c_3) = k_means(dataset, 3)\n",
        "(mu_4, c_4) = k_means(dataset, 4)\n",
        "(mu_5, c_5) = k_means(dataset, 5)\n",
        "(mu_6, c_6) = k_means(dataset, 6)\n",
        "(mu_7, c_7) = k_means(dataset, 7)\n",
        "\n",
        "\n",
        "def get_distortion(mu, c, dataset):\n",
        "  diff = []\n",
        "  for i in range(len(dataset)):\n",
        "    diff.append(np.sum(np.power(np.diff([dataset[i], mu[int(c[i])]], axis=0), 2)))\n",
        "  return (np.sum(diff)/len(dataset))\n",
        "\n",
        "\n",
        "\n",
        "distortions = []\n",
        "distortions.append(get_distortion(mu_2,c_2,dataset))\n",
        "distortions.append(get_distortion(mu_3,c_3,dataset))\n",
        "distortions.append(get_distortion(mu_4,c_4,dataset))\n",
        "distortions.append(get_distortion(mu_5,c_5,dataset))\n",
        "distortions.append(get_distortion(mu_6,c_6,dataset))\n",
        "distortions.append(get_distortion(mu_7,c_7,dataset))\n",
        "\n",
        "plt.plot(np.arange(2,7+1),distortions)\n",
        "plt.title('K-Means Algorithm')\n",
        "plt.xlabel(\"Number of Centroids, K\")\n",
        "plt.ylabel(\"Distortion, J\")\n",
        "\n",
        "print(\"\",end=\"\")"
      ],
      "execution_count": null,
      "outputs": [
        {
          "output_type": "display_data",
          "data": {
            "image/png": "[encoded data removed]",
            "text/plain": [
              "<Figure size 432x288 with 1 Axes>"
            ]
          },
          "metadata": {
            "needs_background": "light"
          }
        }
      ]
    }
  ]
}