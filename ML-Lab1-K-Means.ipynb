{
  "nbformat": 4,
  "nbformat_minor": 0,
  "metadata": {
    "colab": {
      "name": "Untitled0.ipynb",
      "provenance": [],
      "authorship_tag": "ABX9TyODlL+FfUnfSST6bnVFQTYR",
      "include_colab_link": true
    },
    "kernelspec": {
      "name": "python3",
      "display_name": "Python 3"
    },
    "language_info": {
      "name": "python"
    }
  },
  "cells": [
    {
      "cell_type": "markdown",
      "metadata": {
        "id": "view-in-github",
        "colab_type": "text"
      },
      "source": [
        "<a href=\"https://colab.research.google.com/github/emily0622/Python-Projects/blob/main/ML-Lab1-K-Means.ipynb\" target=\"_parent\"><img src=\"https://colab.research.google.com/assets/colab-badge.svg\" alt=\"Open In Colab\"/></a>"
      ]
    },
    {
      "cell_type": "code",
      "metadata": {
        "id": "hmd0xn-cI--r"
      },
      "source": [
        "import numpy as np\n",
        "from numpy.random import seed\n",
        "from numpy.random import randint\n",
        "seed(1)\n",
        "import sklearn\n",
        "from sklearn.datasets import load_breast_cancer\n",
        "data = load_breast_cancer()\n",
        "list(data.target_names)\n",
        "\n",
        "#Note if target = 0 = malignant ; if target = 1 = benign\n",
        "#keys include: data (space separated lists), target (space separated list of 0s and 1s), DESCR, and feature_names which is a list of space separated strings\n",
        "\n",
        "\n",
        "def k_means(dataset,k):\n",
        "  rows = len(dataset[target])-1 \n",
        "  columns = len(dataset[feature_names])-1 \n",
        "\n",
        "  #init clusters by generating random indexes to select from dataset\n",
        "  indexes = randint(0,rows,k)\n",
        "  cluster_init = []\n",
        "  for k_i in range(k):\n",
        "    cluster_init.append(dataset[data][k_i])\n",
        "\n",
        "  #init_clusters contains init centroids\n",
        "  current_centroids = cluster_init.copy()\n",
        "  #store labels for data => store index of cluster (0,1,...k) in the respective index and distances of the data but in the list called labels\n",
        "  labels = []\n",
        "  sum_of_distances = [[]]*k\n",
        "  label_count = [0]*k\n",
        "  for row in range(rows):\n",
        "    closest = [0,0] #index, distance\n",
        "    a = numpy.array(dataset[data][row])\n",
        "    for k_i in k:\n",
        "      b = numpy.array(current_centroids[k_i])\n",
        "      d = numpy.linalg.norm(a-b)\n",
        "      if k_i == 0:\n",
        "        closest[1] = d\n",
        "      elif d < closest[1]:\n",
        "        closest = [k_i,d]\n",
        "    labels.append(closest[0])\n",
        "    label_count[closest[0]] += 1\n",
        "    if sum_of_distances[closest[0]] == []:\n",
        "      sum_of_distances[closest[0]] = a\n",
        "    else:\n",
        "      sum_of_distances[closest[0]] += a\n",
        "  #now have a list of labels, # of labels per centroid, and list of total distances per centroid\n",
        "\n",
        "  #find new centroids by averaging sum_of_distances\n",
        "  \n",
        "    \n",
        "\n",
        "\n",
        "  \n",
        "    \n",
        "\n",
        "    cluster_init\n",
        "  cluster_init = (dataset)\n",
        "\n",
        "\n",
        "\n"
      ],
      "execution_count": 30,
      "outputs": []
    },
    {
      "cell_type": "code",
      "metadata": {
        "colab": {
          "base_uri": "https://localhost:8080/"
        },
        "id": "RZPINMRfPQKd",
        "outputId": "e74ff419-84cb-49af-c6b4-d276a3e4027a"
      },
      "source": [
        "import numpy\n",
        "import numpy.linalg\n",
        "\n",
        "a_0 = [5,8,9,5,0]\n",
        "b_0 = [1,1,1,1,1]\n",
        "\n",
        "a = numpy.array(a_0)\n",
        "b = numpy.array(b_0)\n",
        "print(a+b)\n",
        "print(a/2)"
      ],
      "execution_count": 50,
      "outputs": [
        {
          "output_type": "stream",
          "name": "stdout",
          "text": [
            "[ 6  9 10  6  1]\n",
            "[2.5 4.  4.5 2.5 0. ]\n"
          ]
        }
      ]
    },
    {
      "cell_type": "code",
      "metadata": {
        "id": "rnVn8GYKhYsE"
      },
      "source": [
        ""
      ],
      "execution_count": null,
      "outputs": []
    }
  ]
}